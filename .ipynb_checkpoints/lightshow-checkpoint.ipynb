{
 "cells": [
  {
   "cell_type": "code",
   "execution_count": null,
   "metadata": {},
   "outputs": [],
   "source": [
    "#!/usr/bin/env python3\n",
    "# rpi_ws281x library strandtest example\n",
    "# Author: Tony DiCola (tony@tonydicola.com)\n",
    "#\n",
    "# Direct port of the Arduino NeoPixel library strandtest example.  Showcases\n",
    "# various animations on a strip of NeoPixels.\n",
    " \n",
    "import time\n",
    "from rpi_ws281x import *\n",
    "import argparse\n",
    " \n",
    "# LED strip configuration:\n",
    "LED_COUNT      = 16      # Number of LED pixels.\n",
    "LED_PIN        = 18      # GPIO pin connected to the pixels (18 uses PWM!).\n",
    "#LED_PIN        = 10      # GPIO pin connected to the pixels (10 uses SPI /dev/spidev0.0).\n",
    "LED_FREQ_HZ    = 800000  # LED signal frequency in hertz (usually 800khz)\n",
    "LED_DMA        = 10      # DMA channel to use for generating signal (try 10)\n",
    "LED_BRIGHTNESS = 255     # Set to 0 for darkest and 255 for brightest\n",
    "LED_INVERT     = False   # True to invert the signal (when using NPN transistor level shift)\n",
    "LED_CHANNEL    = 0       # set to '1' for GPIOs 13, 19, 41, 45 or 53\n",
    "\n",
    "def redLights(strip,color,wait_ms=50):\n",
    "    for i in range(strip.numPixels()):\n",
    "        strip.setPixelColor(i,color)\n",
    "        strip.show()\n",
    "        time.sleep(wait_ms/1000)\n",
    " \n",
    "# Main program logic follows:\n",
    "if __name__ == '__main__':\n",
    "    # Process arguments\n",
    "    parser = argparse.ArgumentParser()\n",
    "    parser.add_argument('-c', '--clear', action='store_true', help='clear the display on exit')\n",
    "    args = parser.parse_args()\n",
    " \n",
    "    # Create NeoPixel object with appropriate configuration.\n",
    "    strip = Adafruit_NeoPixel(LED_COUNT, LED_PIN, LED_FREQ_HZ, LED_DMA, LED_INVERT, LED_BRIGHTNESS, LED_CHANNEL)\n",
    "    # Intialize the library (must be called once before other functions).\n",
    "    strip.begin()\n",
    " \n",
    "    print ('Press Ctrl-C to quit.')\n",
    "    if not args.clear:\n",
    "        print('Use \"-c\" argument to clear LEDs on exit')\n",
    " \n",
    "    try:\n",
    "     \n",
    "        while True:\n",
    "            redLights(strip,Color(255,0,0))\n",
    " \n",
    "    except KeyboardInterrupt:\n",
    "        if args.clear:\n",
    "            colorWipe(strip, Color(0,0,0), 10)"
   ]
  }
 ],
 "metadata": {
  "kernelspec": {
   "display_name": "Python 3",
   "language": "python",
   "name": "python3"
  },
  "language_info": {
   "codemirror_mode": {
    "name": "ipython",
    "version": 3
   },
   "file_extension": ".py",
   "mimetype": "text/x-python",
   "name": "python",
   "nbconvert_exporter": "python",
   "pygments_lexer": "ipython3",
   "version": "3.8.5"
  }
 },
 "nbformat": 4,
 "nbformat_minor": 4
}
